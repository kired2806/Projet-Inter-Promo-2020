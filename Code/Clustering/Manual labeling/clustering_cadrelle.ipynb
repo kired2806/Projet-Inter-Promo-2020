{
  "nbformat": 4,
  "nbformat_minor": 0,
  "metadata": {
    "colab": {
      "name": "Copie de Clustering_Damien.ipynb",
      "provenance": [],
      "collapsed_sections": []
    },
    "kernelspec": {
      "name": "python3",
      "display_name": "Python 3"
    }
  },
  "cells": [
    {
      "cell_type": "code",
      "metadata": {
        "id": "59fJ6-OTqKl4"
      },
      "source": [
        "%matplotlib inline\r\n",
        "import re\r\n",
        "import string\r\n",
        "import numpy as np\r\n",
        "import pandas as pd\r\n",
        "import seaborn as sns\r\n",
        "from sklearn.feature_extraction.text import TfidfVectorizer"
      ],
      "execution_count": null,
      "outputs": []
    },
    {
      "cell_type": "code",
      "metadata": {
        "id": "Vls-WKbc0-PL"
      },
      "source": [
        ""
      ],
      "execution_count": null,
      "outputs": []
    },
    {
      "cell_type": "code",
      "metadata": {
        "colab": {
          "base_uri": "https://localhost:8080/"
        },
        "id": "NO4O-HEipiaV",
        "outputId": "a2715076-863b-4c84-c15e-e812954db15f"
      },
      "source": [
        "from google.colab import drive\r\n",
        "drive.mount('/content/drive')"
      ],
      "execution_count": null,
      "outputs": [
        {
          "output_type": "stream",
          "text": [
            "Mounted at /content/drive\n"
          ],
          "name": "stdout"
        }
      ]
    },
    {
      "cell_type": "code",
      "metadata": {
        "colab": {
          "base_uri": "https://localhost:8080/",
          "height": 1606
        },
        "id": "wAZqyCrFqOf2",
        "outputId": "c8354a14-993f-4e5c-c817-807637887300"
      },
      "source": [
        "%load_ext google.colab.data_table\r\n",
        "data = pd.read_json(\"/content/drive/MyDrive/G5 Inter-Promo 2021/Données/Input/Data.json\")\r\n",
        "print(len(data))\r\n",
        "data.head(3)"
      ],
      "execution_count": null,
      "outputs": [
        {
          "output_type": "stream",
          "text": [
            "12261\n"
          ],
          "name": "stdout"
        },
        {
          "output_type": "execute_result",
          "data": {
            "application/vnd.google.colaboratory.module+javascript": "\n      import \"https://ssl.gstatic.com/colaboratory/data_table/a6224c040fa35dcf/data_table.js\";\n\n      window.createDataTable({\n        data: [[{\n            'v': 0,\n            'f': \"0\",\n        },\n{\n            'v': 0,\n            'f': \"0\",\n        },\n\"\",\nnull,\n\"7 d\\u00e9cembre 2018\",\n\"fr\",\n\"4\\u00e8me Conf\\u00e9rence Nationale de l\\u2019Emploi Territorial le 27/03/2019\",\n\"http://fncdg.com/4eme-conference-nationale-de-lemploi-territorial-cnet-le-27-mars-2019/\",\n\"FNCDG\",\n\"xpath_source\",\n\"http://fncdg.com/actualites/\",\n\"http://fncdg.com/wp-content/uploads/2018/12/rapport-orientation-2-750x410.jpg\",\n{\n            'v': null,\n            'f': \"null\",\n        },\n{\n            'v': null,\n            'f': \"null\",\n        }],\n [{\n            'v': 1,\n            'f': \"1\",\n        },\n{\n            'v': 1,\n            'f': \"1\",\n        },\n\"La FNCDG et l\\u2019ANDCDG ont publi\\u00e9 en septembre la 9\\u00e8me \\u00e9dition du panorama de l\\u2019emploi territorial. Cette \\u00e9dition met en exergue certains d\\u00e9fis majeurs auxquels les employeurs territoriaux sont confront\\u00e9s. Diff\\u00e9rents rep\\u00e8res sont offerts aux collectivit\\u00e9s par cette publication :\",\n\"<p style=\\\"text-align: justify;\\\">La FNCDG et l\\u2019ANDCDG ont publi\\u00e9 en septembre la 9<strong><sup>\\u00e8me<\\/sup> <\\/strong>\\u00e9dition du panorama de l\\u2019emploi territorial.<\\/p> <p style=\\\"text-align: justify;\\\">Cette \\u00e9dition met en exergue certains d\\u00e9fis majeurs auxquels les employeurs territoriaux sont confront\\u00e9s.<\\/p> <p style=\\\"text-align: justify;\\\">Diff\\u00e9rents rep\\u00e8res sont offerts aux collectivit\\u00e9s par cette publication\\u00a0:<\\/p>\",\n\"22 septembre 2020\",\n\"fr\",\n\"9\\u00e8me \\u00e9dition du Panorama de l\\u2019emploi territorial\",\n\"http://fncdg.com/9eme-edition-du-panorama-de-lemploi-territorial/\",\n\"FNCDG\",\n\"xpath_source\",\n\"http://fncdg.com/actualites/\",\n\"http://fncdg.com/wp-content/uploads/2020/09/img-9e-edition-panorama-emploi-territorial-750x410.jpg\",\n{\n            'v': null,\n            'f': \"null\",\n        },\n{\n            'v': null,\n            'f': \"null\",\n        }],\n [{\n            'v': 2,\n            'f': \"2\",\n        },\n{\n            'v': 2,\n            'f': \"2\",\n        },\n\"Malgr\\u00e9 la lev\\u00e9e des mesures de confinement le 11 mai 2020, la plupart des mesures sanitaires prises pendant la p\\u00e9riode d\\u2019urgence sanitaire devront se poursuivre afin d\\u2019\\u00e9viter une recrudescence de l\\u2019\\u00e9pid\\u00e9mie de covid-19. Ainsi, avec la reprise progressive de l\\u2019activit\\u00e9, les employeurs publics, les agents et les services de sant\\u00e9 et s\\u00e9curit\\u00e9 au travail des Centres de Gestion auront un r\\u00f4le important \\u00e0 jouer \\u00e0 cet \\u00e9gard. \\u00ab Le guide du d\\u00e9confinement : comment pr\\u00e9parer la reprise d\\u2019activit\\u00e9 \\u00bb est une contribution issue d\\u2019un travail collaboratif entre les Centres de Gestion, l\\u2019ANDCDG et la FNCDG et a pour vocation de constituer un appui aux collectivit\\u00e9s et \\u00e9tablissements pour la reprise de l\\u2019activit\\u00e9, dans un contexte o\\u00f9 les enjeux RH sont nombreux et complexes\\u2026 Ce document s\\u2019organise autour de plusieurs parties et notamment la m\\u00e9thodologie de mise en place d\\u2019un plan de reprise d\\u2019activit\\u00e9 et les mesures pratiques et organisationnelles \\u00e0 pr\\u00e9voir pour cette reprise. T\\u00e9l\\u00e9charger le guide\",\n\"<p style=\\\"text-align: justify;\\\">Malgr\\u00e9 la lev\\u00e9e des mesures de confinement le 11 mai 2020, la plupart des mesures sanitaires prises pendant la p\\u00e9riode d\\u2019urgence sanitaire devront se poursuivre afin d\\u2019\\u00e9viter une recrudescence de l\\u2019\\u00e9pid\\u00e9mie de covid-19. Ainsi, avec la reprise progressive de l\\u2019activit\\u00e9, les employeurs publics, les agents et les services de sant\\u00e9 et s\\u00e9curit\\u00e9 au travail des Centres de Gestion auront un r\\u00f4le important \\u00e0 jouer \\u00e0 cet \\u00e9gard.\\u00a0<em>\\u00ab\\u00a0Le guide du d\\u00e9confinement\\u00a0: comment pr\\u00e9parer la reprise d\\u2019activit\\u00e9\\u00a0\\u00bb<\\/em> est une contribution issue d\\u2019un travail collaboratif entre les Centres de Gestion, l\\u2019ANDCDG et la FNCDG et a pour vocation de constituer un appui aux collectivit\\u00e9s et \\u00e9tablissements pour\\u00a0la reprise de l\\u2019activit\\u00e9, dans un contexte o\\u00f9 les enjeux RH sont nombreux et complexes\\u2026 Ce document s\\u2019organise autour de plusieurs parties\\u00a0et notamment la m\\u00e9thodologie de mise en place d\\u2019un plan de reprise d\\u2019activit\\u00e9 et les mesures pratiques et organisationnelles \\u00e0 pr\\u00e9voir pour cette reprise.\\u00a0 <a href=\\\"http://fncdg.com/wp-content/uploads/2020/05/Guide_deconfinement_CDG_VDEF.pdf\\\" rel=\\\"noopener\\\" target=\\\"_blank\\\">T\\u00e9l\\u00e9charger le guide<\\/a><\\/p>\",\n\"17 mars 2020\",\n\"fr\",\n\"ACTUALIT\\u00c9S FNCDG / COVID19\",\n\"http://fncdg.com/actualites-covid19/\",\n\"FNCDG\",\n\"xpath_source\",\n\"http://fncdg.com/actualites/\",\n\"http://fncdg.com/wp-content/uploads/2020/03/covid19-1-750x410.jpg\",\n{\n            'v': null,\n            'f': \"null\",\n        },\n{\n            'v': null,\n            'f': \"null\",\n        }]],\n        columns: [[\"number\", \"index\"], [\"number\", \"art_id\"], [\"string\", \"art_content\"], [\"string\", \"art_content_html\"], [\"string\", \"art_extract_datetime\"], [\"string\", \"art_lang\"], [\"string\", \"art_title\"], [\"string\", \"art_url\"], [\"string\", \"src_name\"], [\"string\", \"src_type\"], [\"string\", \"src_url\"], [\"string\", \"src_img\"], [\"number\", \"art_auth\"], [\"number\", \"art_tag\"]],\n        columnOptions: [{\"width\": \"1px\", \"className\": \"index_column\"}],\n        rowsPerPage: 25,\n        helpUrl: \"https://colab.research.google.com/notebooks/data_table.ipynb\",\n        suppressOutputScrolling: true,\n        minimumWidth: undefined,\n      });\n    ",
            "text/html": [
              "<div>\n",
              "<style scoped>\n",
              "    .dataframe tbody tr th:only-of-type {\n",
              "        vertical-align: middle;\n",
              "    }\n",
              "\n",
              "    .dataframe tbody tr th {\n",
              "        vertical-align: top;\n",
              "    }\n",
              "\n",
              "    .dataframe thead th {\n",
              "        text-align: right;\n",
              "    }\n",
              "</style>\n",
              "<table border=\"1\" class=\"dataframe\">\n",
              "  <thead>\n",
              "    <tr style=\"text-align: right;\">\n",
              "      <th></th>\n",
              "      <th>art_id</th>\n",
              "      <th>art_content</th>\n",
              "      <th>art_content_html</th>\n",
              "      <th>art_extract_datetime</th>\n",
              "      <th>art_lang</th>\n",
              "      <th>art_title</th>\n",
              "      <th>art_url</th>\n",
              "      <th>src_name</th>\n",
              "      <th>src_type</th>\n",
              "      <th>src_url</th>\n",
              "      <th>src_img</th>\n",
              "      <th>art_auth</th>\n",
              "      <th>art_tag</th>\n",
              "    </tr>\n",
              "  </thead>\n",
              "  <tbody>\n",
              "    <tr>\n",
              "      <th>0</th>\n",
              "      <td>0</td>\n",
              "      <td></td>\n",
              "      <td>None</td>\n",
              "      <td>7 décembre 2018</td>\n",
              "      <td>fr</td>\n",
              "      <td>4ème Conférence Nationale de l’Emploi Territor...</td>\n",
              "      <td>http://fncdg.com/4eme-conference-nationale-de-...</td>\n",
              "      <td>FNCDG</td>\n",
              "      <td>xpath_source</td>\n",
              "      <td>http://fncdg.com/actualites/</td>\n",
              "      <td>http://fncdg.com/wp-content/uploads/2018/12/ra...</td>\n",
              "      <td>None</td>\n",
              "      <td>None</td>\n",
              "    </tr>\n",
              "    <tr>\n",
              "      <th>1</th>\n",
              "      <td>1</td>\n",
              "      <td>La FNCDG et l’ANDCDG ont publié en septembre l...</td>\n",
              "      <td>&lt;p style=\"text-align: justify;\"&gt;La FNCDG et l’...</td>\n",
              "      <td>22 septembre 2020</td>\n",
              "      <td>fr</td>\n",
              "      <td>9ème édition du Panorama de l’emploi territorial</td>\n",
              "      <td>http://fncdg.com/9eme-edition-du-panorama-de-l...</td>\n",
              "      <td>FNCDG</td>\n",
              "      <td>xpath_source</td>\n",
              "      <td>http://fncdg.com/actualites/</td>\n",
              "      <td>http://fncdg.com/wp-content/uploads/2020/09/im...</td>\n",
              "      <td>None</td>\n",
              "      <td>None</td>\n",
              "    </tr>\n",
              "    <tr>\n",
              "      <th>2</th>\n",
              "      <td>2</td>\n",
              "      <td>Malgré la levée des mesures de confinement le ...</td>\n",
              "      <td>&lt;p style=\"text-align: justify;\"&gt;Malgré la levé...</td>\n",
              "      <td>17 mars 2020</td>\n",
              "      <td>fr</td>\n",
              "      <td>ACTUALITÉS FNCDG / COVID19</td>\n",
              "      <td>http://fncdg.com/actualites-covid19/</td>\n",
              "      <td>FNCDG</td>\n",
              "      <td>xpath_source</td>\n",
              "      <td>http://fncdg.com/actualites/</td>\n",
              "      <td>http://fncdg.com/wp-content/uploads/2020/03/co...</td>\n",
              "      <td>None</td>\n",
              "      <td>None</td>\n",
              "    </tr>\n",
              "  </tbody>\n",
              "</table>\n",
              "</div>"
            ],
            "text/plain": [
              "   art_id                                        art_content  ... art_auth art_tag\n",
              "0       0                                                     ...     None    None\n",
              "1       1  La FNCDG et l’ANDCDG ont publié en septembre l...  ...     None    None\n",
              "2       2  Malgré la levée des mesures de confinement le ...  ...     None    None\n",
              "\n",
              "[3 rows x 13 columns]"
            ]
          },
          "metadata": {
            "tags": []
          },
          "execution_count": 8
        }
      ]
    },
    {
      "cell_type": "code",
      "metadata": {
        "colab": {
          "base_uri": "https://localhost:8080/"
        },
        "id": "Marohm0HqOjl",
        "outputId": "9579b4fa-4cff-4655-849f-a18b7b586d1c"
      },
      "source": [
        "data['art_tag'].describe()"
      ],
      "execution_count": null,
      "outputs": [
        {
          "output_type": "execute_result",
          "data": {
            "text/plain": [
              "count         10625\n",
              "unique         1732\n",
              "top       Not Found\n",
              "freq           1055\n",
              "Name: art_tag, dtype: object"
            ]
          },
          "metadata": {
            "tags": []
          },
          "execution_count": 9
        }
      ]
    },
    {
      "cell_type": "code",
      "metadata": {
        "id": "qrQ5Q3bQ0t1D"
      },
      "source": [
        "raw_tags=data[\"art_tag\"].values\r\n",
        "tags=[]\r\n",
        "set_of_tags = set()\r\n",
        "for tag in raw_tags:\r\n",
        "  if tag!=None:\r\n",
        "    if tag[0]=='[':\r\n",
        "      list_of_tags=eval(tag)\r\n",
        "      for tag_in_list in list_of_tags:\r\n",
        "        tags.append(tag_in_list)\r\n",
        "for tag in tags:\r\n",
        "  if tag!='' and tag!=None:\r\n",
        "    tag=tag.lower()\r\n",
        "    if tag[0]=='#':\r\n",
        "      tag=tag[1:]\r\n",
        "    set_of_tags.add(tag)\r\n",
        "set_of_tags = sorted(set_of_tags)\r\n",
        "print(len(set_of_tags))\r\n",
        "for i in set_of_tags:\r\n",
        "  print(i)"
      ],
      "execution_count": null,
      "outputs": []
    },
    {
      "cell_type": "code",
      "metadata": {
        "colab": {
          "base_uri": "https://localhost:8080/"
        },
        "id": "eoq4DFhwjzUE",
        "outputId": "929f56ee-cdbc-4a69-b996-fd73c3a121d6"
      },
      "source": [
        "data['art_tag'].fillna(\"\",inplace=True)\r\n",
        "\r\n",
        "vectorizer = TfidfVectorizer()\r\n",
        "vocabulary = vectorizer.fit_transform(data['art_tag'])\r\n",
        "print(vectorizer.vocabulary_)"
      ],
      "execution_count": null,
      "outputs": [
        {
          "output_type": "stream",
          "text": [
            "{'relations': 744, 'citoyennes': 148, 'cloud': 160, 'horizon': 443, 'télétravail': 899, 'gestion': 412, 'rh': 758, 'dématérialisation': 280, 'budget': 111, 'transformation': 882, 'numérique': 631, 'sécurité': 852, 'collaboratif': 164, 'organisation': 646, 'grc': 421, 'relation': 743, 'citoyens': 150, 'communication': 179, 'smart': 819, 'city': 151, 'elections': 297, 'finances': 380, 'services': 812, 'en': 308, 'ligne': 530, 'conseil': 201, 'municipal': 594, 'anti': 45, 'virus': 936, 'sauvegarde': 799, 'rgpd': 757, 'internet': 491, 'comptabilité': 181, 'evénement': 351, 'elus': 304, 'techniques': 860, 'environnement': 323, 'la': 513, 'une': 902, 'paie': 654, 'décisionnel': 276, 'messagerie': 571, 'accompagnement': 11, 'administration': 21, 'eau': 290, 'mutualisation': 597, 'innover': 477, 'intercommunalité': 487, 'app': 47, 'mobile': 577, 'mobilité': 580, 'aménagement': 39, 'du': 267, 'territoire': 867, 'acteurs': 17, 'des': 240, 'territoires': 868, 'action': 18, 'logement': 539, 'permis': 676, 'de': 238, 'construire': 206, 'hiérarchie': 440, 'normes': 625, 'bâtiment': 116, 'politique': 689, 'ville': 931, 'copropriété': 213, 'montagne': 587, 'collectivités': 171, 'locales': 534, 'hébergement': 450, 'urgence': 911, 'coeur': 163, 'travaux': 888, 'décentralisation': 271, 'habitat': 433, 'indigne': 465, 'aides': 33, 'financières': 382, 'maison': 557, 'au': 75, 'public': 725, 'msap': 592, 'rénovation': 784, 'énergétique': 988, 'construction': 205, 'social': 824, 'hlm': 441, 'locataire': 536, 'parc': 657, 'privé': 703, 'industrie': 467, 'abord': 9, 'loi': 540, 'élan': 979, 'association': 67, 'consommation': 202, 'outre': 652, 'mer': 569, 'renouvellement': 748, 'urbain': 907, 'société': 828, 'sciences': 801, 'economie': 292, 'education': 293, 'recherche': 738, 'institutions': 480, 'citoyenneté': 149, 'election': 296, 'présidentielle': 723, 'technologie': 861, 'emploi': 307, 'travail': 887, 'profession': 711, 'libérale': 526, 'innovation': 476, 'enseignement': 316, 'supérieur': 844, 'population': 692, 'handicapé': 435, 'international': 488, 'internationale': 489, 'commerce': 173, 'vie': 928, 'économique': 973, 'aéronautique': 91, 'pme': 687, 'santé': 797, 'protection': 719, 'sociale': 825, 'maladie': 558, 'publique': 727, 'investissement': 495, 'tourisme': 878, 'industrielle': 469, 'situation': 818, 'afrique': 26, 'république': 785, 'démocratique': 282, 'congo': 194, 'développement': 289, 'parti': 665, 'compétitivité': 184, 'culture': 228, 'médias': 603, 'equipement': 326, 'culturel': 229, 'programme': 714, 'scolaire': 802, 'union': 903, 'européenne': 349, 'commune': 177, 'médicament': 606, 'données': 261, 'epidémie': 325, 'etudiant': 345, 'structure': 842, 'entreprise': 319, 'produit': 709, 'agroalimentaire': 31, 'scolarité': 803, 'retraite': 755, 'coopération': 212, 'diplôme': 252, 'territoriales': 870, 'collectivité': 170, 'locale': 533, 'assurance': 68, 'internationales': 490, 'bilatérales': 101, 'france': 395, 'télécommunications': 895, 'justice': 509, 'droits': 264, 'fondamentaux': 390, 'procédure': 707, 'judiciaire': 505, 'etat': 341, 'gouvernementale': 417, 'agricole': 29, 'intelligence': 482, 'artificielle': 59, 'secteur': 808, 'industriel': 468, 'energie': 310, 'transports': 886, 'electricité': 298, 'livre': 532, 'egalité': 294, 'professionnelle': 713, 'organisme': 647, 'automobile': 78, 'soin': 830, 'médical': 604, 'chances': 134, 'propriété': 718, 'intellectuelle': 481, 'média': 602, 'personnalité': 677, 'européennes': 350, 'nucléaire': 629, 'prix': 705, 'publiques': 728, 'fiscalité': 385, 'religion': 745, 'télévision': 900, 'syndicat': 849, 'et': 339, 'publics': 726, 'europe': 347, 'suède': 846, 'réforme': 777, 'ministère': 576, 'climat': 159, 'artistique': 63, 'catégorie': 128, 'socioprofessionnelle': 827, 'juridiction': 506, 'énergie': 987, 'transport': 885, 'routier': 765, 'médecine': 600, 'diplomatie': 251, 'etablissement': 340, 'création': 225, 'espace': 334, 'service': 811, 'fiscale': 384, 'bioéthique': 105, 'droit': 263, 'constitution': 203, 'constitutionnelle': 204, 'pouvoir': 695, 'législatif': 550, 'sport': 834, 'hôpital': 451, 'jeune': 499, 'insertion': 478, 'patrimoine': 669, 'naturel': 615, 'fonction': 389, 'secondaire': 806, 'culturelle': 230, 'collectif': 167, 'défense': 278, 'bibliothèque': 98, 'art': 57, 'carburant': 122, 'zone': 966, 'rurale': 769, 'aide': 32, 'numériques': 632, 'usager': 913, 'renouvelable': 747, 'ferroviaire': 372, 'mineur': 574, 'cinéma': 143, 'commercial': 174, 'institution': 479, 'régions': 782, 'monde': 585, 'mers': 570, 'océans': 639, 'simplification': 817, 'administrative': 22, 'distinction': 256, 'production': 708, 'armement': 54, 'guerre': 429, 'région': 781, 'enseignant': 315, 'urbanisme': 910, 'marché': 562, 'musée': 596, 'primaire': 701, 'impôt': 461, 'textile': 873, 'gouvernement': 416, 'violence': 933, 'budgétaire': 112, 'formation': 391, 'femme': 369, 'patronat': 670, 'concurrence': 188, 'francophonie': 397, 'pêche': 731, 'pollution': 691, 'catastrophe': 127, 'naturelle': 616, 'alternance': 35, 'personne': 678, 'âgée': 967, 'prélèvement': 721, 'obligatoire': 635, 'digitalworkplace': 250, 'expériencecollaborateur': 360, 'transformationdigitale': 883, 'bots': 110, 'changemanagement': 135, 'designthinking': 242, 'bigdata': 100, 'ia': 452, 'qvt': 735, 'rh3': 759, 'talentmanagement': 853, 'ux': 918, 'performance': 675, 'responsabilitésociétale': 750, 'covid': 220, '19': 1, 'data': 234, 'carrières': 125, 'entrepriseetendue': 320, 'analytiquerh': 41, 'blockchain': 107, 'interopérabilité': 492, 'externalisation': 362, 'core': 214, 'hr': 444, 'csp': 227, 'gta': 428, 'actualités': 19, 'presse': 699, 'evénements': 352, 'entreprises': 321, 'not': 626, 'found': 393, 'référence': 778, 'utilisateur': 916, 'territoriale': 869, 'chorus': 139, 'pro': 706, 'm57': 552, 'vidéo': 927, 'adgcf': 20, 'acpusi': 15, 'chaîne': 136, 'comptable': 182, 'ciril': 146, 'group': 425, 'rse': 767, 'filoue': 376, 'petite': 681, 'enfance': 311, 'élections': 981, 'dsn': 266, 'électorale': 982, 'synaaps': 848, 'pca': 673, 'franceconnect': 396, 'portail': 693, 'citoyen': 147, 'nouvelle': 628, 'civil': 155, 'académie': 10, 'coter': 217, 'club': 161, 'dgs': 244, 'sndgct': 823, 'sdis': 805, 'territorialis': 871, 'business': 115, 'geografic': 410, 'journées': 504, 'utilisateurs': 917, 'andcdg': 42, 'cdg': 129, 'salon': 793, 'maires': 556, 'ap': 46, 'connect': 195, 'experts': 355, 'comptables': 183, 'erp': 329, 'finance': 378, 'retail': 753, 'fashion': 368, 'tpe': 879, 'auto': 77, 'entrepreneurs': 318, 'ressources': 751, 'humaines': 446, '13': 0, 'octobre': 638, '2020': 4, 'corporate': 216, 'news': 620, 'embarquée': 306, 'coronavirus': 215, 'design': 241, 'pandémie': 656, 'objets': 634, 'connectés': 199, '3d': 7, 'initiative': 475, 'coworking': 222, 'digital': 247, 'élus': 986, 'événement': 995, 'angers': 44, 'french': 399, 'tech': 858, 'étudiants': 993, 'rencontres': 746, 'intelligent': 483, 'conférences': 193, 'intelligente': 484, 'localisation': 535, 'application': 49, 'entrepreneuriat': 317, 'transition': 884, 'digitale': 248, 'iot': 496, 'smartphone': 821, 'startup': 836, 'télécommunication': 894, 'media': 567, 'projet': 715, 'solidarité': 832, 'règlementation': 772, 'sanitaire': 795, 'collaboration': 165, 'visioconférence': 937, 'objet': 633, 'connecté': 197, 'android': 43, 'fin': 377, 'cité': 153, 'filière': 375, 'électronique': 985, 'écosystème': 977, 'usages': 915, 'gafa': 403, 'taxes': 857, 'économie': 972, 'cluster': 162, 'pays': 672, 'loire': 541, 'world': 965, 'startups': 837, 'informatique': 472, 'recrutement': 741, 'paiement': 655, 'sans': 796, 'contact': 207, 'réalité': 773, 'virtuelle': 935, 'vente': 924, 'vr': 947, 'enjeu': 314, 'immobilier': 458, 'usagers': 914, 'déchets': 273, '5g': 8, 'débat': 269, 'nantes': 611, 'greentech': 422, 'villes': 932, 'végétal': 948, 'vélo': 950, 'crise': 223, 'tribune': 890, 'information': 471, 'esanté': 332, 'durable': 268, 'jo': 502, 'paris': 658, '2024': 5, 'écologie': 970, 'ergonomie': 328, 'aéronef': 92, 'drone': 265, 'lyon': 549, 'confluence': 191, 'réchauffement': 774, 'plateforme': 684, 'web': 956, 'covoiturage': 221, 'ess': 336, 'carbone': 121, 'déplacements': 287, 'hydrogène': 449, 'écologique': 971, 'déplacement': 286, 'trottinettes': 891, 'domotique': 260, 'téléphone': 898, 'privée': 704, 'immersion': 456, 'laval': 517, 'virtual': 934, 'centre': 132, 'grid': 424, 'datacenter': 235, 'jeunes': 500, 'connectée': 198, 'silver': 815, 'ces': 133, 'partage': 662, 'agriculture': 30, 'jardin': 498, 'analyse': 40, 'circulation': 145, 'prévention': 724, 'capteurs': 120, 'electronique': 301, 'évenement': 994, 'high': 438, 'avenir': 82, 'demain': 239, 'universités': 905, 'automobiles': 79, 'autonome': 80, 'technologies': 862, 'urbanisation': 909, 'poste': 694, 'expérimentation': 361, 'réseau': 786, 'très': 892, 'haut': 436, 'débit': 270, 'augmentée': 76, 'projets': 716, 'nature': 614, 'stationnement': 838, 'cyclistes': 233, 'solaire': 831, 'autonomie': 81, 'gps': 418, 'géolocalisation': 432, 'seniors': 809, 'ingénieuse': 474, 'cyber': 232, 'assistant': 66, 'conversationnel': 211, 'smartcity': 820, 'classement': 158, 'montpellier': 588, 'ce': 130, 'facteur': 365, 'george': 411, 'las': 516, 'vegas': 923, 'applications': 50, 'malakoff': 559, 'médéric': 607, 'solutions': 833, 'platform': 685, 'pavic': 671, 'coussin': 219, 'fitness': 386, 'gaspar': 405, 'lésions': 551, 'cutanées': 231, 'start': 835, 'up': 906, 'tapis': 855, 'electronic': 299, 'grand': 419, 'keolis': 510, 'navya': 618, 'label': 514, 'récompense': 776, 'axelle': 88, 'lemaire': 520, 'eseo': 333, 'véhicule': 949, 'réseaux': 787, 'saumur': 798, 'open': 640, 'réunion': 788, 'concept': 185, 'mobilités': 581, 'robots': 764, 'vivatech': 942, 'alimentation': 34, 'gaspillage': 406, 'nourriture': 627, 'viva': 940, 'télémédecine': 897, 'étude': 992, 'juridique': 507, 'gastronomie': 407, 'expérience': 359, 'atelier': 70, 'inclusion': 463, 'patients': 668, 'démocratie': 281, 'participative': 666, 'expositions': 358, 'robotique': 763, 'jeux': 501, 'métropole': 610, 'voiture': 943, 'big': 99, 'calculateurs': 117, 'wifi': 959, 'éclairage': 968, 'monétique': 590, 'civictech': 154, 'robot': 762, 'ateliers': 71, 'apprentissage': 51, 'école': 969, 'éducation': 978, 'location': 537, 'loisirs': 543, 'vacances': 919, 'digitalisation': 249, 'dmp': 258, 'dossier': 262, 'controle': 210, 'vivatec': 941, 'enfants': 312, 'grande': 420, 'distribution': 257, 'mobility': 579, 'water': 954, 'fibre': 374, 'optique': 641, 'achat': 14, 'tv': 893, 'pépinières': 730, 'laboratoire': 515, 'bas': 95, 'inde': 464, 'maddy': 554, 'keynote': 511, 'futur': 402, 'magasin': 555, 'vision': 938, '2018': 3, 'médecins': 601, 'tri': 889, 'stratups': 839, 'bitcoin': 106, 'cryptomonnaie': 224, 'monnaie': 586, 'frenchtech': 400, 'décision': 275, 'accélérateur': 13, 'communauté': 176, 'concours': 187, 'impression': 459, 'imprimante': 460, 'avis': 86, 'expertise': 354, 'entrerprise': 322, 'ruralité': 771, 'avion': 85, 'train': 880, 'cheval': 137, 'mobinautes': 582, 'thd': 874, 'esyl': 338, 'connected': 196, 'week': 957, 'wef': 958, 'numa': 630, 'wise': 962, 'factory': 366, 'groupe': 426, 'infrastructures': 473, 'photo': 683, 'chu': 141, 'eram': 327, 'mode': 583, 'festival': 373, 'avocats': 87, 'juristes': 508, 'lora': 544, 'sigfox': 814, 'wize': 963, 'conception': 186, 'banque': 93, 'mobiles': 578, 'gary': 404, 'shapiro': 813, 'intervention': 493, 'playmoweb': 686, 'sba': 800, 'financement': 379, 'électrique': 984, 'ruralitic': 770, 'handicap': 434, 'silvereconomie': 816, 'workshop': 964, 'acteur': 16, 'veolia': 925, 'sncf': 822, 'luc': 546, 'belot': 97, 'parlement': 660, 'confiance': 190, 'rapport': 737, 'vérification': 952, 'démonstration': 284, 'exposition': 357, 'barcelone': 94, 'ouishare': 651, 'rio': 760, 'humain': 445, 'collective': 168, 'terchnologie': 866, 'ouest': 650, 'electronics': 300, 'forum': 392, 'amenagement': 37, 'bureau': 114, 'salariés': 792, 'gazette': 408, 'communes': 178, 'université': 904, 'assistance': 65, 'compagnon': 180, 'leka': 519, 'attractivité': 74, 'voix': 944, 'synthèse': 850, 'suez': 843, 'google': 413, 'carrefour': 123, 'architecture': 52, 'digiferme': 246, 'ferme': 371, 'candidat': 119, 'liberté': 523, 'collaborative': 166, 'élection': 980, 'imagine': 455, 'adn': 23, 'décideurs': 274, 'bordeaux': 108, 'technopole': 863, 'écoparc': 975, 'cityn': 152, 'puériculture': 729, 'hyblab': 448, 'homme': 442, 'moderne': 584, 'atlantique': 72, 'bornes': 109, 'macs': 553, 'mulhouse': 593, 'ruckus': 768, 'wireless': 961, 'techologie': 864, 'wifilib': 960, 'orange': 644, 'vallée': 921, 'scrutin': 804, 'vote': 945, 'levi': 521, 'sxsw': 847, 'tissu': 877, 'agglomérations': 28, 'aruba': 64, 'déploiements': 288, 'hewlett': 437, 'packard': 653, 'appel': 48, 'enedis': 309, 'partenariat': 664, 'électricité': 983, 'métiers': 609, 'premier': 697, 'ministre': 575, 'artisan': 60, 'gourmandise': 414, '2017': 2, 'engie': 313, 'fab': 364, 'datavisualisation': 237, 'interactif': 485, 'medialab': 568, 'récits': 775, 'qowisio': 733, 'directe': 253, 'écoresponsable': 976, 'bio': 103, 'restauration': 752, 'lightning': 529, 'marine': 563, 'nautisme': 617, 'luxe': 547, 'président': 722, 'affection': 25, 'amour': 38, 'lovebox': 545, 'saint': 789, 'valentin': 920, 'verte': 926, 'surveillance': 845, 'circulaire': 144, 'building': 113, 'recommandations': 739, 'personnelles': 679, 'observatoire': 636, 'réglementation': 783, 'agglomération': 27, 'vélos': 951, 'tiers': 876, 'lieux': 528, 'datas': 236, 'recyclage': 742, 'pharmacie': 682, 'téléconsultation': 896, 'femmes': 370, 'management': 561, 'gouvernance': 415, 'opérateurs': 643, 'tic': 875, 'démographie': 283, 'gélolocalisation': 431, 'ign': 454, 'axible': 89, 'urbains': 908, 'samrt': 794, 'parking': 659, 'waste': 953, 'conférence': 192, 'éthique': 989, 'serveur': 810, 'propreté': 717, 'opérateur': 642, 'firip': 383, 'guide': 430, 'méthode': 608, 'nfc': 621, 'canada': 118, 'talents': 854, 'village': 930, 'chine': 138, 'etudes': 344, 'artiste': 62, 'valorisation': 922, 'human': 447, 'courrier': 218, 'usa': 912, 'chronique': 140, 'cartographie': 126, 'incidents': 462, 'police': 688, 'secours': 807, 'esa': 330, 'esaconnect': 331, 'médecin': 599, 'idées': 453, 'nice': 622, 'tramway': 881, 'attaques': 73, 'essaimage': 337, 'malveillance': 560, 'connexions': 200, 'ambiance': 36, 'aventure': 83, 'voyage': 946, 'infographie': 470, 'konnecticut': 512, 'visualisation': 939, 'parlementaire': 661, 'base': 96, 'fmf': 388, 'waze': 955, 'libcast': 522, 'streaming': 841, 'billet': 102, 'civiteo': 157, 'collectives': 169, 'stratégie': 840, 'comité': 172, '21': 6, 'doha': 259, 'qatar': 732, 'journal': 503, 'net': 619, 'accès': 12, 'arobase': 56, 'qualité': 734, 'financier': 381, 'licenciement': 527, 'vieilllesse': 929, 'déchet': 272, 'produits': 710, 'intercommunale': 486, 'département': 285, 'risque': 761, 'professionnel': 712, 'exploitation': 356, 'grh': 423, 'biodiversité': 104, 'maritime': 564, 'difficulté': 245, 'loisir': 542, 'aérien': 90, 'municipale': 595, 'littoral': 531, 'partenaires': 663, 'sociaux': 826, 'fluvial': 387, 'temps': 865, 'condition': 189, 'étranger': 990, 'centrale': 131, 'migration': 572, 'crédit': 226, 'assurances': 69, 'famille': 367, 'matière': 565, 'première': 698, 'ecologie': 291, 'français': 398, 'laïcité': 518, 'salaire': 790, 'exécutif': 363, 'terrorisme': 872, 'médicale': 605, 'immigration': 457, 'européen': 348, 'gendarmerie': 409, 'espagne': 335, 'italie': 497, 'prestation': 700, 'chômage': 142, 'préfecture': 720, 'technique': 859, 'taxe': 856, 'dette': 243, 'epargne': 324, 'histoire': 439, 'militaire': 573, 'prison': 702, 'sécurite': 851, 'étrangère': 991, 'économiques': 974, 'radio': 736, 'carrière': 124, 'armée': 55, 'lycée': 548, 'elevage': 302, 'libertés': 524, 'individuelles': 466, 'partis': 667, 'politiques': 690, 'aviation': 84, 'civile': 156, 'peine': 674, 'elu': 303, 'libre': 525, 'personnes': 680, 'affaires': 24, 'intérieures': 494, 'artisanat': 61, 'salariale': 791, 'nationale': 612, 'délinquance': 279, 'nationalité': 613, 'francaise': 394, 'reconversion': 740, 'etranger': 343, 'exclusion': 353, 'ordre': 645, 'mutuelle': 598, 'revenu': 756, 'frontière': 401, 'sociétés': 829, 'otage': 648, 'déconcentration': 277, 'mouvement': 591, 'monétaire': 589, 'grève': 427, 'régime': 780, 'ethique': 342, 'référendum': 779, 'euro': 346, 'archives': 53, 'routière': 766, 'elève': 305, 'otan': 649, 'elargissement': 295, 'ue': 901, 'niger': 623, 'discrimination': 254, 'contrat': 209, 'niveau': 624, 'renseignement': 749, 'ocde': 637, 'commun': 175, 'dissimulé': 255, 'matrimoniale': 566, 'retours': 754, 'pouvoirs': 696, 'locaux': 538, 'contenu': 208, 'article': 58}\n"
          ],
          "name": "stdout"
        }
      ]
    },
    {
      "cell_type": "code",
      "metadata": {
        "id": "rLCAwwCg8CS-"
      },
      "source": [
        "class my_list(list):\r\n",
        "    def add(self, *args):\r\n",
        "        for arg in args:\r\n",
        "            self.append(arg)\r\n",
        "\r\n",
        "\r\n",
        "            \r\n",
        "international = my_list()\r\n",
        "france = my_list()\r\n",
        "economie = my_list()\r\n",
        "science = my_list()\r\n",
        "transport = my_list()\r\n",
        "sports = my_list()\r\n",
        "sante = my_list()\r\n",
        "environement = my_list()\r\n",
        "education = my_list()\r\n",
        "securite = my_list()\r\n",
        "entreprise = my_list()\r\n",
        "legislation = my_list()\r\n",
        "social = my_list()"
      ],
      "execution_count": null,
      "outputs": []
    },
    {
      "cell_type": "code",
      "metadata": {
        "id": "BRoGcDhfA-hx"
      },
      "source": [
        "class my_list(list):\r\n",
        "    def add(self, i_tags:list ,set_of_tags: list):\r\n",
        "        for arg in i_tags:\r\n",
        "            self.append(set_of_tags[arg])"
      ],
      "execution_count": null,
      "outputs": []
    },
    {
      "cell_type": "code",
      "metadata": {
        "id": "Rpe87M9WFyh_"
      },
      "source": [
        "from itertools import islice\r\n",
        "for i, val in enumerate(islice(set_of_tags, 200, 301)):\r\n",
        "  print(i+200, val)"
      ],
      "execution_count": null,
      "outputs": []
    },
    {
      "cell_type": "code",
      "metadata": {
        "id": "ggtqN_vW4mEE"
      },
      "source": [
        "for i in  sorted(set_of_tags):\r\n",
        "  print(i)"
      ],
      "execution_count": null,
      "outputs": []
    },
    {
      "cell_type": "code",
      "metadata": {
        "id": "PHpzrgCat7DK"
      },
      "source": [
        "dict_classes = {\r\n",
        "            'international': 0,\r\n",
        "            'france': 1,\r\n",
        "            'economie': 2,\r\n",
        "            'numerique': 3,\r\n",
        "            'transport': 4,\r\n",
        "            'sports': 5,\r\n",
        "            'sante': 6,\r\n",
        "            'environement': 7,\r\n",
        "            'education': 8,\r\n",
        "            'securite': 9,\r\n",
        "            'entreprise': 10,\r\n",
        "            'legislation': 11\r\n",
        "            }"
      ],
      "execution_count": null,
      "outputs": []
    },
    {
      "cell_type": "code",
      "metadata": {
        "id": "dDZvw3gP8n9S",
        "colab": {
          "base_uri": "https://localhost:8080/",
          "height": 128
        },
        "outputId": "9369045b-840b-4965-8519-e11445ed3c3e"
      },
      "source": [
        "set_of_tags_copy = set_of_tags.copy()\r\n",
        "\r\n",
        "for i in :\r\n",
        "  set_of_tags_copy.remove(i)"
      ],
      "execution_count": null,
      "outputs": [
        {
          "output_type": "error",
          "ename": "SyntaxError",
          "evalue": "ignored",
          "traceback": [
            "\u001b[0;36m  File \u001b[0;32m\"<ipython-input-18-226a667ba0d1>\"\u001b[0;36m, line \u001b[0;32m3\u001b[0m\n\u001b[0;31m    for i in :\u001b[0m\n\u001b[0m             ^\u001b[0m\n\u001b[0;31mSyntaxError\u001b[0m\u001b[0;31m:\u001b[0m invalid syntax\n"
          ]
        }
      ]
    },
    {
      "cell_type": "code",
      "metadata": {
        "colab": {
          "base_uri": "https://localhost:8080/"
        },
        "id": "AQbHGOI6vhHQ",
        "outputId": "911cf33a-4754-417b-ee66-4763160848c2"
      },
      "source": [
        "df = pd.DataFrame({'art_id':data['art_id'],\r\n",
        "                   'art_tag':data['art_tag']})\r\n",
        "                            \r\n",
        "df['art_tag'].isna().values.sum()"
      ],
      "execution_count": null,
      "outputs": [
        {
          "output_type": "execute_result",
          "data": {
            "text/plain": [
              "1636"
            ]
          },
          "metadata": {
            "tags": []
          },
          "execution_count": 12
        }
      ]
    },
    {
      "cell_type": "code",
      "metadata": {
        "colab": {
          "base_uri": "https://localhost:8080/"
        },
        "id": "eBXe9Z7wwDSK",
        "outputId": "d73f3df9-a390-4de1-c0d2-6e2514585f0b"
      },
      "source": [
        "test_set = df[df['art_tag'].isnull()]\r\n",
        "len(test_set)"
      ],
      "execution_count": null,
      "outputs": [
        {
          "output_type": "execute_result",
          "data": {
            "text/plain": [
              "1636"
            ]
          },
          "metadata": {
            "tags": []
          },
          "execution_count": 15
        }
      ]
    },
    {
      "cell_type": "code",
      "metadata": {
        "colab": {
          "base_uri": "https://localhost:8080/"
        },
        "id": "WCI3r9ABwgTg",
        "outputId": "f2f5296b-75aa-40d9-86c1-7d0ecc974df6"
      },
      "source": [
        "train_set = df[df['art_tag'].notnull()]\r\n",
        "len(train_set)"
      ],
      "execution_count": null,
      "outputs": [
        {
          "output_type": "execute_result",
          "data": {
            "text/plain": [
              "10625"
            ]
          },
          "metadata": {
            "tags": []
          },
          "execution_count": 17
        }
      ]
    },
    {
      "cell_type": "code",
      "metadata": {
        "colab": {
          "base_uri": "https://localhost:8080/"
        },
        "id": "KYkWNQ0by8M3",
        "outputId": "45887699-da29-445d-ba1f-a20eb44ec023"
      },
      "source": [
        "ytrain = train_set['labels']\r\n",
        "len(ytrain)"
      ],
      "execution_count": null,
      "outputs": [
        {
          "output_type": "execute_result",
          "data": {
            "text/plain": [
              "10625"
            ]
          },
          "metadata": {
            "tags": []
          },
          "execution_count": 27
        }
      ]
    },
    {
      "cell_type": "code",
      "metadata": {
        "colab": {
          "base_uri": "https://localhost:8080/"
        },
        "id": "hK2N5NOkvX84",
        "outputId": "59796ed0-4437-48a8-e2fe-a7a00170910c"
      },
      "source": [
        "xtrain = vectorizer.transform(train_set['art_tag'])\r\n",
        "xtrain = train_set.drop(['labels'], axis=1)\r\n",
        "\r\n",
        "test_set.fillna(\"\",inplace=True)\r\n",
        "xtest = vectorizer.transform(test_set['art_tag'])\r\n",
        "xtest = test_set.drop(['labels'], axis=1)"
      ],
      "execution_count": null,
      "outputs": [
        {
          "output_type": "stream",
          "text": [
            "/usr/local/lib/python3.6/dist-packages/pandas/core/frame.py:4327: SettingWithCopyWarning: \n",
            "A value is trying to be set on a copy of a slice from a DataFrame\n",
            "\n",
            "See the caveats in the documentation: https://pandas.pydata.org/pandas-docs/stable/user_guide/indexing.html#returning-a-view-versus-a-copy\n",
            "  downcast=downcast,\n"
          ],
          "name": "stderr"
        }
      ]
    },
    {
      "cell_type": "code",
      "metadata": {
        "id": "ZriV2SGc1FQL"
      },
      "source": [
        "from itertools import islice\r\n",
        "for i, val in enumerate(islice(set_of_tags, 201, 301)):\r\n",
        "  print(i+201, val)"
      ],
      "execution_count": null,
      "outputs": []
    },
    {
      "cell_type": "code",
      "metadata": {
        "id": "uSnWEnKyOFyg"
      },
      "source": [
        ""
      ],
      "execution_count": null,
      "outputs": []
    },
    {
      "cell_type": "code",
      "metadata": {
        "id": "MvEUWUAaOzo_"
      },
      "source": [
        "from itertools import islice\r\n",
        "for i, val in enumerate(islice(set_of_tags, 900, 1001)):\r\n",
        "  print(i+900, val)"
      ],
      "execution_count": null,
      "outputs": []
    },
    {
      "cell_type": "code",
      "metadata": {
        "colab": {
          "base_uri": "https://localhost:8080/"
        },
        "id": "RgdF3QoDF9wv",
        "outputId": "d5680f0f-7b75-4252-bb1f-97e9cdc9c048"
      },
      "source": [
        "class my_list(list):\r\n",
        "    def add(self, i_tags:list ,set_of_tags: list):\r\n",
        "        for arg in i_tags:\r\n",
        "            self.append(set_of_tags[arg])\r\n",
        "\r\n",
        "## Nour\r\n",
        "international_tags = [31,36,103,126,147,179,505,513,521,536,540,591,812,815,856,898]\r\n",
        "france_tags =[115,568,811]\r\n",
        "economie_tags =[0,14,23,25,26,27,28,82,101,102,119,120,145,151,178,186,519,583,853,854]\r\n",
        "science_tags = [6,54,55,56,60,77,88,89,104,105,107,108,113,160,161,166,167,180,197,196,198,506,509,514,515,527,539,590,814,816,818,819,820,836,837,849,860,862,863,864,865,866,867,868,867,868,869,870,871,872,873,874,875,894]\r\n",
        "transport_tags = [875]\r\n",
        "sports_tags = [526,887]\r\n",
        "sante_tags= [80,570,576,828,829,839,831,832,882]\r\n",
        "environement_tags = [4,106,110,111,135,136,139,152,153,156,158,159,161,165,182,183,181,182,183,501,522,558,567,589,817,858,878]\r\n",
        "education_tags = [62,838]\r\n",
        "securite_tags = [65,66,518,592,841,897]\r\n",
        "entreprise_tags = [5,57,58,192,537,549,582,823,824,850,876,880,888,889,890,895]\r\n",
        "legislation_tags = [1,2,97,162,529,530,531,532,533,534,559,594,804,805,806,813,826,855,857]\r\n",
        "## Gabriel \r\n",
        "internationalG = [420,422,442,451,478,485,754,769,772,787]\r\n",
        "franceG = [747,770]\r\n",
        "economieG = [404,405,406,407,408,409,723,725,727,779,783,784,]\r\n",
        "scienceG = [400,403,418,441,454,459,461,465,470,473,474,480,481,487,488,490,494,497,499,498,759,761,762,790,791,792,798,799]\r\n",
        "transportG = []\r\n",
        "sportsG = []\r\n",
        "santeG = [413,457,458,472]\r\n",
        "environementG = [423,427,434,455,456,466,467,468,479,489,716,717,737,739,743,766,767,774,776,778,796,800]\r\n",
        "educationG = [401,416,452,462,464,492,493,722,735,751]\r\n",
        "securiteG=[430,471,483]+[724,742,744,745,785,788]\r\n",
        "entrepriseG = [429,433,436,437,446,460,500,718,729,730,731,732,733,755,764,765,768,771,789,794]\r\n",
        "legislationG = [411,412,435,439,440,443,482,700,701,702,703,704,705,706,707,708,709,710,711,712,713,714,715,719,721,726,741,746,748,749,797]\r\n",
        "## Jessicka \r\n",
        "international_tagsJ = [307,363,373,376,628,650,655,1006,1023]\r\n",
        "france_tagsJ = [604,607,620,621,627,658,664,677]\r\n",
        "economie_tagsJ = [300,301,302,303,349,350,364,365,382,384,602,605,610,639,659,660,661,662,695,1016,1028,1029,1030,1031]\r\n",
        "science_tagsJ = [313,314,315,323,324,325,326,331,356,357,398,626,633,634,635,636,637,640,641,642,688,1000,1001,1002,1007,1015,1017,1018,1022,1025,1035,1036,1040,1041,1042,1044]\r\n",
        "transport_tagsJ = [366,1003,1004,1009,1010,1011,1012,1014]\r\n",
        "sports_tagsJ = [623,676]\r\n",
        "sante_tagsJ = [351,354,360,369,611,612,613,615,616,663,671,685]\r\n",
        "environement_tagsJ = [348,622,674,1008,1024,1027,1033,1034,1045]\r\n",
        "education_tagsJ = [304,319,327,328,332,333,334,335,336,337,361,370,374,375,630,684,699,1026,1037,1047,1048]\r\n",
        "securite_tagsJ = [654]\r\n",
        "entreprise_tagsJ = [306,320,321,322,329,330,338,339,340,341,342,343,344,345,346,347,355,358,378,391,618,624,632,643,644,645,649,657,668,669,675,678,689,690,698,1019]\r\n",
        "legislation_tagsJ = [305,308,309,310,311,312,317,318,371,606,646,648,651,653,665,666,670,681,682,691,692,693,694,696,1005,1038,1039,1043]\r\n",
        "## Cadrelle \r\n",
        "international_tag = [965,973,977,249]\r\n",
        "france_tag = [996]\r\n",
        "economie_tag= [910,911,979,980,985,202,203,226,229,300]\r\n",
        "science_tag = [900,907,908,909,913,914,915,917,919,924,929,931,936,937,939,940,957,958,959,960,961,962,963,964,981,983,988,993,997,999,1000,219,233,235,236,237,238,240,245,246,247,248,255,256,257,278,279,283,285,290,291,292,295,296,297]\r\n",
        "transport_tag = [934,935,944,945,946,947,948,949,950,956,223]\r\n",
        "sports_tag = [234,281]\r\n",
        "sante_tag = [972,201,217,259]\r\n",
        "environement_tag = [932,969,970,971,974,975,986,987,989,990,991,992,994,995,275,276,293,298,299]\r\n",
        "education_tag = [942,943,955,967,968,250]\r\n",
        "securite_tag = [903,904,905,906,996,210]\r\n",
        "entreprise_tag = [901,916,918,923,933,951,952,982,209,224,227,228]\r\n",
        "legislation_tag = [200,204,205,260,261,262,263,264,265,26,267,268,269,274,284]\r\n",
        "\r\n",
        "## All Tags\r\n",
        "import itertools\r\n",
        "liste_all_tags = list(itertools.chain(international_tags,france_tags,economie_tags,science_tags,transport_tags,sports_tags,sante_tags,environement_tags,education_tags,securite_tags,entreprise_tags,legislation_tags))\r\n",
        "liste_all_tags.extend(list(itertools.chain(international_tagsJ,france_tagsJ,economie_tagsJ,science_tagsJ,transport_tagsJ,sports_tagsJ,sante_tagsJ,environement_tagsJ,education_tagsJ,securite_tagsJ,entreprise_tagsJ,legislation_tagsJ)))\r\n",
        "liste_all_tags.extend(list(itertools.chain(internationalG,franceG,economieG,scienceG,transportG,sportsG,santeG,environementG,educationG,securiteG,entrepriseG,legislationG)))\r\n",
        "liste_all_tags.extend(list(itertools.chain(international_tag,france_tag,economie_tag,science_tag,transport_tag,sports_tag,sante_tag,environement_tag,education_tag,securite_tag,entreprise_tag,legislation_tag)))\r\n",
        "## All labels\r\n",
        "international_tags = list(set(list(itertools.chain(international_tags,internationalG,international_tagsJ,international_tag))))\r\n",
        "france_tags = list(set(list(itertools.chain(france_tags,franceG,france_tagsJ,france_tag))))\r\n",
        "economie_tags =list(set(list(itertools.chain(economie_tags,economieG,economie_tagsJ,economie_tag))))\r\n",
        "science_tags = list(set(list(itertools.chain(science_tags,scienceG,science_tagsJ,science_tag))))\r\n",
        "transport_tags = list(set(list(itertools.chain(transport_tags,transportG,transport_tagsJ,transport_tag))))\r\n",
        "sports_tags = list(set(list(itertools.chain(sports_tags,sportsG,sports_tagsJ,sports_tag))))\r\n",
        "sante_tags= list(set(list(itertools.chain(sante_tags,santeG,sante_tagsJ,sante_tag))))\r\n",
        "environement_tags = list(set(list(itertools.chain(environement_tags,environementG,environement_tagsJ,environement_tag))))\r\n",
        "securite_tags = list(set(list(itertools.chain(securite_tags,securiteG,securite_tagsJ,securite_tag))))\r\n",
        "entreprise_tags = list(set(list(itertools.chain(entreprise_tags,entrepriseG,entreprise_tagsJ,entreprise_tag))))\r\n",
        "legislation_tags = list(set(list(itertools.chain(legislation_tags,legislationG,legislation_tagsJ,legislation_tag))))\r\n",
        "\r\n",
        "\r\n",
        "international.add(international_tags,list(set_of_tags))\r\n",
        "france.add(france_tags,list(set_of_tags))\r\n",
        "economie.add(economie_tags,list(set_of_tags))\r\n",
        "science.add(science_tags,list(set_of_tags))\r\n",
        "transport.add(transport_tags,list(set_of_tags))\r\n",
        "sports.add(sports_tags,list(set_of_tags))\r\n",
        "sante.add(sante_tags,list(set_of_tags))\r\n",
        "environement.add(environement_tags,list(set_of_tags))\r\n",
        "education.add(education_tags,list(set_of_tags))\r\n",
        "securite.add(securite_tags,list(set_of_tags))\r\n",
        "entreprise.add(entreprise_tags,list(set_of_tags))\r\n",
        "legislation.add(legislation_tags,list(set_of_tags))\r\n",
        "## Left Tags\r\n",
        "set_of_tags_left=set_of_tags.copy()\r\n",
        "for i in list(set(liste_all_tags)):\r\n",
        "  set_of_tags_left.remove(set_of_tags[i])\r\n",
        "\r\n",
        "print(set_of_tags_left) ## tags left\r\n",
        "\r\n",
        "\r\n",
        "#print(international)\r\n",
        "#print(international_tags)\r\n",
        "\r\n"
      ],
      "execution_count": null,
      "outputs": [
        {
          "output_type": "stream",
          "text": [
            "[' retail & fashion', '3 g', '3d', '5g', 'a la une', 'accompagnement', 'accès internet', 'accélérateur', 'acpusi', 'acteur', 'acteurs', 'acteurs des territoires', 'action', 'action coeur de ville', 'action collective', 'action logement', 'adgcf', 'adn ouest', 'affection', 'agglomération', 'agglomérations', 'agriculture', 'aide', 'aides financières', 'alimentation', 'ambiance', 'amenagement', 'amour', 'aménagement', 'aménagement du territoire', 'analyse', 'analytiquerh', 'andcdg', 'android', 'angers', 'angers city platform', 'angers french tech', 'angers frenchtech', 'angers loire développement', 'angers technopole', 'application', 'applications', 'architecture', 'archives', 'arobase', 'art', 'art urbain', 'article', 'artisan', 'artisanat', 'artiste', 'aruba', 'assistance', 'assistant conversationnel', 'association', 'assurance chômage', 'assurance vieilllesse', 'atelier', 'ateliers', 'atlantique', 'attaques', 'attractivité', 'autonome', 'autonomie', 'avenir', 'aventure', 'aviation civile', 'avion', 'avis', 'axelle lemaire', 'axible', 'aéronef', 'billet', 'bioéthique', 'blockchain', 'bornes', 'bots', 'budget', 'bureau', 'business geografic', 'bâtiment', 'bâtiment et travaux publics', 'calculateurs', 'candidat', 'capteurs', 'carbone', 'carburant', 'carrefour', 'carrière professionnelle', 'carrières', 'cartographie', 'cdg', 'ce', 'ces', 'ces 2017', 'ces 2018', 'ces 2020', 'changemanagement', 'cheval', 'chorus pro', 'chronique', 'chu', 'ciril group', 'citoyen', 'citoyenneté - elections', 'civiteo', 'classement', 'collaboratif', 'collaboration', 'collectif', 'collectives', 'collectivité', 'collectivité locale', 'collectivités', 'collectivités locales', 'collectivités territoriales', 'comité 21', 'communication', 'compagnon', 'compétitivité', 'concept', 'conception', 'concours', 'concurrence', 'confiance', 'conférence', 'conférences', 'conseil', 'construction', 'construction européenne', 'contenu', 'coopération', 'coopération européenne', 'coopération intercommunale', 'copropriété', 'core hr', 'core rh', 'corporate', 'courrier', 'coussin', 'covid-19', 'crise sanitaire', 'csp', 'culture', 'culture - médias', 'demain', 'designthinking', 'dette publique', 'dgs', 'digiferme', 'discrimination', 'distinction', 'dmp', 'doha', 'données personnelles', 'droit européen', 'drone', 'dsn', 'du', 'débat', 'décideurs', 'déconcentration', 'délinquance', 'démonstration', 'département', 'déplacement', 'déplacements', 'd’expérience', 'elevage', 'equipement collectif', 'equipement culturel', 'esaconnect', 'espace', 'et', 'etablissement public', 'ethique', 'evénement', 'evénements entreprises, evénements secteur public', 'evénements secteur public', 'exclusion sociale', 'experts', 'exploitation agricole', 'exposition', 'expositions', 'expérience', 'expériencecollaborateur', 'expérimentation', 'facteur', 'famille', 'femme', 'femmes', 'ferme', 'festival', 'filière', 'filoue', 'firip', 'fmf', 'fonction publique', 'forum', 'francophonie', 'french tech', 'gafa', 'gary shapiro', 'gaspar', 'gastronomie', 'george', 'gestion', 'gourmandise', 'grande distribution', 'grc', 'grh', 'groupe', 'grève', 'gta', 'gélolocalisation', 'hiérarchie des normes', 'hyblab', 'ign fab', 'imagine angers', 'immersion', 'inclusion', 'industrie', 'industrie textile', 'infrastructures', 'initiative', 'institution', 'institutions', \"institutions de l'etat\", 'intelligence artificielle', 'intelligence artificielle.', 'intelligence collective', 'interactif', 'intercommunalité', 'interopérabilité', 'intervention', 'iot', 'jeune', 'jeunes', 'jeux', 'journées utilisateurs', 'keolis', 'label', 'laval virtual', 'laïcité', 'leka', \"levi's\", 'libcast', 'liberté', 'libertés individuelles', 'libre circulation des personnes', 'littoral', 'livre', 'localisation', 'locataire parc privé', 'location', 'locaux', 'logement', \"logement d'abord\", 'loi élan', 'loisir', 'loisirs', 'lora', 'lovebox', 'luc belot', 'luxe', 'lyon confluence', 'm57', 'macs', 'maddy keynote', 'magasin', 'maison de services au public (msap)', 'malakoff médéric', 'malveillance', 'management', 'marché', 'marché commun', 'marine', 'marine nationale', 'matière première', 'media', 'mer', 'mineur', 'mobile', 'mobiles', 'mobilité', 'mobilités', 'mobinautes', 'mode', 'mode collaboratif', 'montagne', 'musée', 'mutualisation', 'média', 'méthode', 'métropole', 'news', 'niveau de vie', 'nourriture', 'observatoire', 'organisation', 'organisme de recherche', 'ouest medialab', 'partage', 'patrimoine', 'patrimoine culturel', 'peine', 'performance', 'personne âgée', 'photo', 'plateforme', 'politique culturelle', 'pouvoirs', 'produit agroalimentaire', 'programme', 'projet', 'projets', 'propreté', 'prévention', 'pépinières', 'pêche', 'qualité des produits', 'qualité service', 'qvt', 'rapport', 'recommandations', 'relations économiques internationales', 'rencontres', 'renseignement', 'restauration', 'retail & fashion', 'retours', 'rh3.0', 'rse', 'ruralitic', 'récits', 'récompense', 'réforme constitutionnelle', 'référence utilisateur', 'référendum', 'régime politique', 'région', 'réunion', 'saint valentin', 'salon', 'samrt grid', 'santé - protection sociale', 'saumur', 'sauvegarde', 'sba', 'sdis', 'secteur industriel', 'secteur public', 'seniors', 'serveur', 'service', 'service public', 'services', 'services.', 'sigfox', 'situation économique', 'smart city', 'sndgct', 'sociale', 'société - population', 'solaire', 'solidarité', 'solutions', 'solutions rh', 'stationnement', 'stratups', 'stratégie', 'suez', 'sxsw', 'synthèse', 'technique agricole', 'territoire', 'territoire intelligent', 'territoires', 'territorialis', 'terrorisme', 'textile', 'thd', 'tiers lieux', 'transition', 'transition numérique.', 'travaux', 'tri', 'union économique et monétaire', 'ux', 'valorisation', 'vie privée', 'vision', 'vérification', 'wize', 'workshop', 'écoparc', 'éthique', 'évenement', 'événement']\n"
          ],
          "name": "stdout"
        }
      ]
    },
    {
      "cell_type": "code",
      "metadata": {
        "id": "cOdslv3oG8l_"
      },
      "source": [
        "international_tag_lefts = [773,966,]\r\n",
        "france_tag_lefts = [603,810,821]\r\n",
        "economie_tag_lefts= [629]\r\n",
        "science_tag_lefts = [686,687,734,834,941]\r\n",
        "transport_tag_lefts = []\r\n",
        "sports_tag_lefts = []\r\n",
        "sante_tag_lefts = [631,750,740,756,830]\r\n",
        "environement_tag_lefts = []\r\n",
        "education_tag_lefts = []\r\n",
        "securite_tag_lefts = []\r\n",
        "entreprise_tag_lefts = [647,656,680,736,738,757,760,795,786,793,802,807,885,886,976]\r\n",
        "legislation_tag_lefts = []\r\n",
        "social_tag_lefts = [600,601,608,609,614,625,647,652,672,673,697,720,775,879]\r\n"
      ],
      "execution_count": null,
      "outputs": []
    },
    {
      "cell_type": "code",
      "metadata": {
        "id": "qlx9NimmAfHw"
      },
      "source": [
        "print (len(set_of_tags_left))\r\n",
        "for i in set_of_tags_left:\r\n",
        "  print(set_of_tags.index(i) ,i)\r\n"
      ],
      "execution_count": null,
      "outputs": []
    }
  ]
}